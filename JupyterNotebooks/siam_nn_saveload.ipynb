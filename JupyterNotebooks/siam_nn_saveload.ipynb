{
 "cells": [
  {
   "cell_type": "code",
   "execution_count": null,
   "id": "57f66339-a6ea-46da-824a-ca80fc02ae2f",
   "metadata": {},
   "outputs": [],
   "source": [
    "import numpy as np\n",
    "import scipy as sp\n",
    "import matplotlib.pyplot as plt\n",
    "\n",
    "import sys\n",
    "sys.path.append(\"..\")\n",
    "import solax as sx\n",
    "\n",
    "import os\n",
    "os.environ['XLA_FLAGS']='--xla_gpu_deterministic_ops=true'"
   ]
  },
  {
   "cell_type": "code",
   "execution_count": null,
   "id": "cd545516-bac3-4a14-b4eb-f5a012369a8b",
   "metadata": {},
   "outputs": [],
   "source": [
    "def build_bath(N_bath):\n",
    "    ii = np.arange(N_bath) + 1\n",
    "    xx = ii * np.pi / (N_bath + 1)\n",
    "    e_bath = -2 * np.cos(xx)\n",
    "    \n",
    "    V0 = np.sqrt(20 / (N_bath + 1))\n",
    "    V_bath = V0 * np.sqrt(1 - (e_bath / 2)**2)\n",
    "    \n",
    "    return e_bath, V_bath"
   ]
  },
  {
   "cell_type": "code",
   "execution_count": null,
   "id": "373e6277-874f-403e-9e94-cec832746560",
   "metadata": {},
   "outputs": [],
   "source": [
    "def build_start_dets(N_bath):\n",
    "    det1 = \"01\"  + \"1\" * (N_bath - 1) + \"10\" + \"0\" * (N_bath - 1)\n",
    "    det2 = \"10\"  + \"1\" * (N_bath - 1) + \"01\" + \"0\" * (N_bath - 1)\n",
    "    return det1, det2"
   ]
  },
  {
   "cell_type": "code",
   "execution_count": null,
   "id": "5199d33c-e25e-4647-b49b-2096bc9321ee",
   "metadata": {},
   "outputs": [],
   "source": [
    "U = 10\n",
    "N_bath = 21\n",
    "e_bath, V_bath = build_bath(N_bath)\n",
    "start_dets = build_start_dets(N_bath)\n",
    "\n",
    "basis_start = sx.Basis(build_start_dets(N_bath))\n",
    "\n",
    "H_imp2 = sx.Operator(\n",
    "    (1, 0, 1, 0),\n",
    "    np.array([\n",
    "        [0, 0, 1, 1]\n",
    "    ]),\n",
    "    np.array([U])\n",
    ")\n",
    "\n",
    "H_imp1 = sx.Operator(\n",
    "    (1, 0),\n",
    "    np.array([\n",
    "        [0, 0],\n",
    "        [1, 1]\n",
    "    ]),\n",
    "    np.array([-U / 2, -U / 2])\n",
    ")\n",
    "\n",
    "H_imp = H_imp2 + H_imp1 + U / 4\n",
    "\n",
    "H_bath = sx.Operator(\n",
    "    (1, 0),\n",
    "    np.arange(2, 2 * N_bath + 2).repeat(2).reshape(-1, 2),\n",
    "    e_bath.repeat(2)\n",
    ")\n",
    "\n",
    "H_hyb_posits = np.vstack([\n",
    "    np.array([0, 1] * N_bath),\n",
    "    np.arange(2, 2 * N_bath + 2)\n",
    "]).T\n",
    "\n",
    "H_hyb_nohc = sx.Operator(\n",
    "    (1, 0),\n",
    "    H_hyb_posits,\n",
    "    V_bath.repeat(2)\n",
    ")\n",
    "\n",
    "H = H_imp + H_bath + H_hyb_nohc + H_hyb_nohc.hconj"
   ]
  },
  {
   "cell_type": "code",
   "execution_count": null,
   "id": "a90ef98f-49e3-46a7-990f-257180f6a6b1",
   "metadata": {},
   "outputs": [],
   "source": [
    "num_iterations = 4\n",
    "\n",
    "basis = basis_start\n",
    "\n",
    "for i in range(num_iterations):\n",
    "    matrix = H.build_matrix(basis)\n",
    "    energy = sp.sparse.linalg.eigsh(\n",
    "        matrix.to_scipy(), k=1, which=\"SA\"\n",
    "    )[0][0]\n",
    "    \n",
    "    basis_size = len(basis)\n",
    "    print(\n",
    "        f\"Iteration: {i+1:<8d}\"\n",
    "        f\"Basis size = {basis_size:<12d}\"\n",
    "        f\"Energy = {energy}\"\n",
    "    )\n",
    "    \n",
    "    if i < num_iterations - 1:\n",
    "        basis = H(basis)"
   ]
  },
  {
   "cell_type": "markdown",
   "id": "c25a3d1e-3a89-4bc7-aebf-40eeecedf541",
   "metadata": {},
   "source": [
    "## BasisClassifier"
   ]
  },
  {
   "cell_type": "code",
   "execution_count": null,
   "id": "62a0a13f-91fd-4fb2-b5ff-4379295913f1",
   "metadata": {},
   "outputs": [],
   "source": [
    "from flax import linen as nn\n",
    "import optax"
   ]
  },
  {
   "cell_type": "code",
   "execution_count": null,
   "id": "0aecbf9c-fe8e-496d-9bd6-aa1dd1a1938e",
   "metadata": {},
   "outputs": [],
   "source": [
    "def nn_call_on_bits(x):\n",
    "    x = x.reshape(-1, 2)\n",
    "    x = nn.Conv(features=64, kernel_size=(2,), padding=\"valid\")(x)\n",
    "    x = nn.relu(x)\n",
    "    x = nn.Conv(features=4, kernel_size=(1,), padding=\"valid\")(x)\n",
    "    x = nn.relu(x)\n",
    "    x = x.reshape(-1)\n",
    "    \n",
    "    x = nn.Dense(features=dense_size)(x)\n",
    "    x = nn.relu(x)\n",
    "    x = nn.Dense(features=dense_size//2)(x)\n",
    "    x = nn.relu(x)\n",
    "    x = nn.Dense(features=dense_size//4)(x)\n",
    "    x = nn.relu(x)\n",
    "    x = nn.Dense(features=2)(x)\n",
    "    return x"
   ]
  },
  {
   "cell_type": "code",
   "execution_count": null,
   "id": "5e0186af-8c44-40d0-a961-a7fb5b173fa1",
   "metadata": {},
   "outputs": [],
   "source": [
    "dense_size = int(7 * np.sqrt(2 * N_bath + 2))\n",
    "print(dense_size)"
   ]
  },
  {
   "cell_type": "code",
   "execution_count": null,
   "id": "07dbfc3d-f2f4-48df-8348-02f03a840494",
   "metadata": {},
   "outputs": [],
   "source": [
    "classifier = sx.BasisClassifier(nn_call_on_bits)"
   ]
  },
  {
   "cell_type": "code",
   "execution_count": null,
   "id": "8cf58c0c-34a9-42ee-8cea-29789e889d80",
   "metadata": {},
   "outputs": [],
   "source": [
    "rand_keys = sx.RandomKeys(seed=1234)\n",
    "key_for_nn = next(rand_keys)\n",
    "\n",
    "optimizer = optax.adam(learning_rate=0.005)\n",
    "\n",
    "classifier.initialize(key_for_nn, basis_start, optimizer)\n",
    "classifier.print_summary()"
   ]
  },
  {
   "cell_type": "code",
   "execution_count": null,
   "id": "846a5c13-d056-40ad-83a8-aa7ff844596d",
   "metadata": {},
   "outputs": [],
   "source": [
    "basis_small = basis\n",
    "del basis\n",
    "\n",
    "basis_big = H(basis_small)\n",
    "print(len(basis_big))"
   ]
  },
  {
   "cell_type": "code",
   "execution_count": null,
   "id": "b040985b-b84c-485d-8764-c6e686e22bc7",
   "metadata": {},
   "outputs": [],
   "source": [
    "candidates = basis_big % basis_small\n",
    "print(len(candidates))"
   ]
  },
  {
   "cell_type": "markdown",
   "id": "a1cec40c-d35a-42f7-b293-414bcdb7b7e3",
   "metadata": {},
   "source": [
    "## BigBasisManager"
   ]
  },
  {
   "cell_type": "code",
   "execution_count": null,
   "id": "21aa7658-72a5-4ad9-b4e1-d3f9c34a20db",
   "metadata": {},
   "outputs": [],
   "source": [
    "bbm = sx.BigBasisManager(candidates, classifier)"
   ]
  },
  {
   "cell_type": "code",
   "execution_count": null,
   "id": "7ec5588e-4c8f-40af-9955-5746a15cf637",
   "metadata": {},
   "outputs": [],
   "source": [
    "target_num = int(np.sqrt(len(basis_big)) * 50)\n",
    "print(target_num)"
   ]
  },
  {
   "cell_type": "code",
   "execution_count": null,
   "id": "3e2e8b33-ad36-4398-af59-0fbeb6af5eb7",
   "metadata": {},
   "outputs": [],
   "source": [
    "random_num = int(target_num / 1.5)\n",
    "print(random_num)"
   ]
  },
  {
   "cell_type": "code",
   "execution_count": null,
   "id": "078dc97e-4e1f-40ff-8eea-fbeb525e07ca",
   "metadata": {},
   "outputs": [],
   "source": [
    "random_sel = bbm.sample_subbasis(next(rand_keys), random_num)"
   ]
  },
  {
   "cell_type": "code",
   "execution_count": null,
   "id": "13b929e7-ecb7-4426-9b1e-f2a7f3f197ce",
   "metadata": {},
   "outputs": [],
   "source": [
    "print(isinstance(random_sel, sx.Basis))\n",
    "print(len(random_sel))"
   ]
  },
  {
   "cell_type": "code",
   "execution_count": null,
   "id": "ae6c5936-e1cf-4565-af25-bd10ffdfd803",
   "metadata": {},
   "outputs": [],
   "source": [
    "basis_diag = basis_small + random_sel\n",
    "print(len(basis_diag))"
   ]
  },
  {
   "cell_type": "code",
   "execution_count": null,
   "id": "0e415781-d5f9-4bb2-96fb-eafcdf6d76ff",
   "metadata": {},
   "outputs": [],
   "source": [
    "matrix = H.build_matrix(basis_diag)\n",
    "result = sp.sparse.linalg.eigsh(matrix.to_scipy(), k=1, which=\"SA\")\n",
    "\n",
    "energy = result[0][0]\n",
    "print(f\"Intermediate energy:\\t{energy}\")"
   ]
  },
  {
   "cell_type": "code",
   "execution_count": null,
   "id": "f2c84115-3629-4710-9081-0cf4c2aae67c",
   "metadata": {},
   "outputs": [],
   "source": [
    "eigenvec = result[1][:, 0]\n",
    "state_diag = sx.State(basis_diag, eigenvec)"
   ]
  },
  {
   "cell_type": "code",
   "execution_count": null,
   "id": "cb57e4d8-1f67-45a9-b96d-68711d1fee57",
   "metadata": {},
   "outputs": [],
   "source": [
    "state_train = state_diag % basis_small\n",
    "len(state_train)"
   ]
  },
  {
   "cell_type": "code",
   "execution_count": null,
   "id": "01c4f924-2fe5-4335-b733-50055d3c5674",
   "metadata": {},
   "outputs": [],
   "source": [
    "abs_coeff_cut = bbm.derive_abs_coeff_cut(target_num, state_train)\n",
    "print(f\"Cutoff:\\t{abs_coeff_cut}\")"
   ]
  },
  {
   "cell_type": "code",
   "execution_count": null,
   "id": "6a9f9238-1f22-4e43-8da0-f16729bd2346",
   "metadata": {},
   "outputs": [],
   "source": [
    "state_train_impt = state_train.chop(abs_coeff_cut)\n",
    "print(len(state_train_impt))"
   ]
  },
  {
   "cell_type": "code",
   "execution_count": null,
   "id": "589b95ec-4596-403d-b341-4c3b4a6cf4eb",
   "metadata": {},
   "outputs": [],
   "source": [
    "print(len(state_train_impt) / len(state_train))"
   ]
  },
  {
   "cell_type": "code",
   "execution_count": null,
   "id": "a7ad93c5-9936-4fbe-a785-f51bda4615b7",
   "metadata": {},
   "outputs": [],
   "source": [
    "print(target_num / len(candidates))"
   ]
  },
  {
   "cell_type": "code",
   "execution_count": null,
   "id": "d33afbe8-9d85-4b45-b5fc-b158f3a3cd5d",
   "metadata": {},
   "outputs": [],
   "source": [
    "early_stopped = bbm.train_classifier(\n",
    "    next(rand_keys),\n",
    "    state_train,\n",
    "    abs_coeff_cut,\n",
    "    batch_size=256,\n",
    "    epochs=200,\n",
    "    early_stop=True,\n",
    "    early_stop_params={\"patience\": 3}\n",
    ")\n",
    "\n",
    "print(early_stopped)"
   ]
  },
  {
   "cell_type": "code",
   "execution_count": null,
   "id": "3a94c1a5-a783-4592-b1ed-74a8262c7ccf",
   "metadata": {},
   "outputs": [],
   "source": [
    "nn_selected = bbm.predict_impt_subbasis(batch_size=256)\n",
    "nn_selected = nn_selected % state_train.basis\n",
    "print(len(nn_selected))"
   ]
  },
  {
   "cell_type": "code",
   "execution_count": null,
   "id": "0ef19ef6-688b-4ca1-984a-436a23c4b4ba",
   "metadata": {},
   "outputs": [],
   "source": [
    "basis_impt = nn_selected + state_train_impt.basis\n",
    "print(len(basis_impt))\n",
    "print(abs(len(basis_impt) - target_num) / target_num)"
   ]
  },
  {
   "cell_type": "code",
   "execution_count": null,
   "id": "43ada410-dffb-48bc-b6c3-dda9e3074cd2",
   "metadata": {},
   "outputs": [],
   "source": [
    "basis = basis_small + basis_impt\n",
    "\n",
    "matrix = H.build_matrix(basis)\n",
    "result = sp.sparse.linalg.eigsh(matrix.to_scipy(), k=1, which=\"SA\")\n",
    "\n",
    "energy = result[0][0]\n",
    "print(f\"Basis:\\t{len(basis)}\")\n",
    "print(f\"Energy:\\t{energy}\")"
   ]
  },
  {
   "cell_type": "code",
   "execution_count": null,
   "id": "8dec6a31-e59d-42dd-8228-4a28e778fbd0",
   "metadata": {},
   "outputs": [],
   "source": [
    "eigenvec = result[1][:, 0]\n",
    "state = sx.State(basis, eigenvec)\n",
    "\n",
    "nn_selected_state = state % basis_small % state_train.basis\n",
    "print(nn_selected_state.basis == nn_selected)"
   ]
  },
  {
   "cell_type": "code",
   "execution_count": null,
   "id": "19b6ebf6-dbf3-4da3-a297-7ee95aa0f4d5",
   "metadata": {},
   "outputs": [],
   "source": [
    "nn_selected_right = nn_selected_state.chop(abs_coeff_cut).basis\n",
    "print(len(nn_selected_right))\n",
    "print(len(nn_selected_right) / len(nn_selected))"
   ]
  },
  {
   "cell_type": "code",
   "execution_count": null,
   "id": "25cda044-d6e8-4872-ae64-567a434fef0d",
   "metadata": {},
   "outputs": [],
   "source": [
    "nn_selected_wrong = nn_selected % nn_selected_right\n",
    "basis_final = basis % nn_selected_wrong\n",
    "print(len(basis_final))"
   ]
  },
  {
   "cell_type": "markdown",
   "id": "3f86c8be-9405-40c8-949d-3465b54115ff",
   "metadata": {},
   "source": [
    "## Save / load"
   ]
  },
  {
   "cell_type": "code",
   "execution_count": null,
   "id": "ac5e0164-e3de-41b9-8210-5012c6119494",
   "metadata": {},
   "outputs": [],
   "source": [
    "sx.save(basis_final, \"solax_basis_\")"
   ]
  },
  {
   "cell_type": "code",
   "execution_count": null,
   "id": "09ab90b5-7f4c-471d-987f-66ec70cabea2",
   "metadata": {},
   "outputs": [],
   "source": [
    "basis_loaded = sx.load(\"solax_basis_\")\n",
    "print(basis_loaded == basis_final)"
   ]
  },
  {
   "cell_type": "code",
   "execution_count": null,
   "id": "a140a826-9c03-433a-be34-f78892b92e20",
   "metadata": {},
   "outputs": [],
   "source": [
    "dict_to_save = dict(\n",
    "    basis_from_nn=basis_final,\n",
    "    hamiltonian=H\n",
    ")\n",
    "\n",
    "sx.save(dict_to_save, \"solax_basis_ham_\")"
   ]
  },
  {
   "cell_type": "code",
   "execution_count": null,
   "id": "8ba6ab02-09ae-4554-9f1e-c18e62e77f83",
   "metadata": {},
   "outputs": [],
   "source": [
    "loaded_dict = sx.load(\"solax_basis_ham_\")\n",
    "\n",
    "for key, value in loaded_dict.items():\n",
    "    print(f\"{key} has type {type(value).__name__}\")"
   ]
  },
  {
   "cell_type": "code",
   "execution_count": null,
   "id": "b455d729-82a4-4a60-a4d0-8befbcedf96c",
   "metadata": {},
   "outputs": [],
   "source": [
    "dict_to_save = dict(\n",
    "    info=\"This computation is a demonstration of SOLAX\",\n",
    "    params=dict(\n",
    "        N_bath=N_bath,\n",
    "        U_impurity=U\n",
    "    ),\n",
    "    basis_from_nn=basis_final,\n",
    "    last_epochs=dict(\n",
    "        epochs=np.array([22, 23, 24, 25, 26]),\n",
    "        accuracies=np.array([9.613544e-01, 9.513097e-01, 9.507517e-01,\n",
    "                             9.456353e-01, 9.568901e-01])\n",
    "    ),\n",
    "    random_keys_after=rand_keys\n",
    ")\n",
    "\n",
    "sx.save(dict_to_save, \"solax_big_save_\")"
   ]
  },
  {
   "cell_type": "code",
   "execution_count": null,
   "id": "6b4d7570-2c3e-49d7-8dd5-c2cece3f5e47",
   "metadata": {},
   "outputs": [],
   "source": [
    "sx.load(\"solax_big_save_\")"
   ]
  },
  {
   "cell_type": "code",
   "execution_count": null,
   "id": "c67fae34-7574-4023-b8fb-fe87a5f676fb",
   "metadata": {},
   "outputs": [],
   "source": [
    "classifier.save_state(\"solax_nn_\")"
   ]
  },
  {
   "cell_type": "code",
   "execution_count": null,
   "id": "956efc17-5c68-443c-9f6e-65ed3ce7d1cc",
   "metadata": {},
   "outputs": [],
   "source": [
    "loaded_nn = sx.BasisClassifier(nn_call_on_bits)\n",
    "\n",
    "fake_key = sx.RandomKeys.fake_key()\n",
    "loaded_nn.initialize(fake_key, basis_start, optimizer)"
   ]
  },
  {
   "cell_type": "code",
   "execution_count": null,
   "id": "75ad8d4e-823d-4457-8c3e-9095f2ee0ab4",
   "metadata": {},
   "outputs": [],
   "source": [
    "loaded_nn.load_state(\"solax_nn_\")"
   ]
  },
  {
   "cell_type": "code",
   "execution_count": null,
   "id": "76714524-d90d-476c-b34b-911d13b9c32a",
   "metadata": {},
   "outputs": [],
   "source": [
    "## clean up\n",
    "#!rm -r solax_basis_\n",
    "#!rm -r solax_basis_ham_\n",
    "#!rm -r solax_big_save_\n",
    "#!rm -r solax_nn_"
   ]
  },
  {
   "cell_type": "code",
   "execution_count": null,
   "id": "a80d3b3d-638b-46f1-bc08-1a29182f62f5",
   "metadata": {},
   "outputs": [],
   "source": []
  }
 ],
 "metadata": {
  "kernelspec": {
   "display_name": "Python 3 (ipykernel)",
   "language": "python",
   "name": "python3"
  },
  "language_info": {
   "codemirror_mode": {
    "name": "ipython",
    "version": 3
   },
   "file_extension": ".py",
   "mimetype": "text/x-python",
   "name": "python",
   "nbconvert_exporter": "python",
   "pygments_lexer": "ipython3",
   "version": "3.12.4"
  }
 },
 "nbformat": 4,
 "nbformat_minor": 5
}
