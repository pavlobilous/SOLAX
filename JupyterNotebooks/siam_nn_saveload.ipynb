{
 "cells": [
  {
   "cell_type": "code",
   "execution_count": 1,
   "id": "57f66339-a6ea-46da-824a-ca80fc02ae2f",
   "metadata": {},
   "outputs": [],
   "source": [
    "import numpy as np\n",
    "import scipy as sp\n",
    "import matplotlib.pyplot as plt\n",
    "\n",
    "import sys\n",
    "sys.path.append(\"..\")\n",
    "import solax as sx\n",
    "\n",
    "import os\n",
    "os.environ['XLA_FLAGS']='--xla_gpu_deterministic_ops=true'"
   ]
  },
  {
   "cell_type": "code",
   "execution_count": 2,
   "id": "cd545516-bac3-4a14-b4eb-f5a012369a8b",
   "metadata": {},
   "outputs": [],
   "source": [
    "def build_bath(N_bath):\n",
    "    ii = np.arange(N_bath) + 1\n",
    "    xx = ii * np.pi / (N_bath + 1)\n",
    "    e_bath = -2 * np.cos(xx)\n",
    "    \n",
    "    V0 = np.sqrt(20 / (N_bath + 1))\n",
    "    V_bath = V0 * np.sqrt(1 - (e_bath / 2)**2)\n",
    "    \n",
    "    return e_bath, V_bath"
   ]
  },
  {
   "cell_type": "code",
   "execution_count": 3,
   "id": "373e6277-874f-403e-9e94-cec832746560",
   "metadata": {},
   "outputs": [],
   "source": [
    "def build_start_dets(N_bath):\n",
    "    det1 = \"01\"  + \"1\" * (N_bath - 1) + \"10\" + \"0\" * (N_bath - 1)\n",
    "    det2 = \"10\"  + \"1\" * (N_bath - 1) + \"01\" + \"0\" * (N_bath - 1)\n",
    "    return det1, det2"
   ]
  },
  {
   "cell_type": "code",
   "execution_count": 4,
   "id": "5199d33c-e25e-4647-b49b-2096bc9321ee",
   "metadata": {},
   "outputs": [],
   "source": [
    "U = 10\n",
    "N_bath = 21\n",
    "e_bath, V_bath = build_bath(N_bath)\n",
    "start_dets = build_start_dets(N_bath)\n",
    "\n",
    "basis_start = sx.Basis(build_start_dets(N_bath))\n",
    "\n",
    "H_imp2 = sx.Operator(\n",
    "    (1, 0, 1, 0),\n",
    "    np.array([\n",
    "        [0, 0, 1, 1]\n",
    "    ]),\n",
    "    np.array([U])\n",
    ")\n",
    "\n",
    "H_imp1 = sx.Operator(\n",
    "    (1, 0),\n",
    "    np.array([\n",
    "        [0, 0],\n",
    "        [1, 1]\n",
    "    ]),\n",
    "    np.array([-U / 2, -U / 2])\n",
    ")\n",
    "\n",
    "H_imp = H_imp2 + H_imp1 + U / 4\n",
    "\n",
    "H_bath = sx.Operator(\n",
    "    (1, 0),\n",
    "    np.arange(2, 2 * N_bath + 2).repeat(2).reshape(-1, 2),\n",
    "    e_bath.repeat(2)\n",
    ")\n",
    "\n",
    "H_hyb_posits = np.vstack([\n",
    "    np.array([0, 1] * N_bath),\n",
    "    np.arange(2, 2 * N_bath + 2)\n",
    "]).T\n",
    "\n",
    "H_hyb_nohc = sx.Operator(\n",
    "    (1, 0),\n",
    "    H_hyb_posits,\n",
    "    V_bath.repeat(2)\n",
    ")\n",
    "\n",
    "H = H_imp + H_bath + H_hyb_nohc + H_hyb_nohc.hconj"
   ]
  },
  {
   "cell_type": "code",
   "execution_count": 5,
   "id": "a90ef98f-49e3-46a7-990f-257180f6a6b1",
   "metadata": {},
   "outputs": [
    {
     "name": "stderr",
     "output_type": "stream",
     "text": [
      "2024-08-20 15:54:11.119129: W external/xla/xla/service/gpu/nvptx_compiler.cc:765] The NVIDIA driver's CUDA version is 12.2 which is older than the ptxas CUDA version (12.5.82). Because the driver is older than the ptxas version, XLA is disabling parallel compilation, which may slow down compilation. You should update your NVIDIA driver or use the NVIDIA-provided CUDA forward compatibility packages.\n"
     ]
    },
    {
     "name": "stdout",
     "output_type": "stream",
     "text": [
      "Iteration: 1       Basis size = 2           Energy = -28.463653910211487\n",
      "Iteration: 2       Basis size = 44          Energy = -30.19530217404953\n",
      "Iteration: 3       Basis size = 684         Energy = -31.242891311317663\n",
      "Iteration: 4       Basis size = 7084        Energy = -31.70729257122757\n"
     ]
    }
   ],
   "source": [
    "num_iterations = 4\n",
    "\n",
    "basis = basis_start\n",
    "\n",
    "for i in range(num_iterations):\n",
    "    matrix = H.build_matrix(basis)\n",
    "    energy = sp.sparse.linalg.eigsh(\n",
    "        matrix.to_scipy(), k=1, which=\"SA\"\n",
    "    )[0][0]\n",
    "    \n",
    "    basis_size = len(basis)\n",
    "    print(\n",
    "        f\"Iteration: {i+1:<8d}\"\n",
    "        f\"Basis size = {basis_size:<12d}\"\n",
    "        f\"Energy = {energy}\"\n",
    "    )\n",
    "    \n",
    "    if i < num_iterations - 1:\n",
    "        basis = H(basis)"
   ]
  },
  {
   "cell_type": "markdown",
   "id": "c25a3d1e-3a89-4bc7-aebf-40eeecedf541",
   "metadata": {},
   "source": [
    "## BasisClassifier"
   ]
  },
  {
   "cell_type": "code",
   "execution_count": 6,
   "id": "62a0a13f-91fd-4fb2-b5ff-4379295913f1",
   "metadata": {},
   "outputs": [],
   "source": [
    "from flax import linen as nn\n",
    "import optax"
   ]
  },
  {
   "cell_type": "code",
   "execution_count": 7,
   "id": "0aecbf9c-fe8e-496d-9bd6-aa1dd1a1938e",
   "metadata": {},
   "outputs": [],
   "source": [
    "def nn_call_on_bits(x):\n",
    "    x = x.reshape(-1, 2)\n",
    "    x = nn.Conv(features=64, kernel_size=(2,), padding=\"valid\")(x)\n",
    "    x = nn.relu(x)\n",
    "    x = nn.Conv(features=4, kernel_size=(1,), padding=\"valid\")(x)\n",
    "    x = nn.relu(x)\n",
    "    x = x.reshape(-1)\n",
    "    \n",
    "    x = nn.Dense(features=dense_size)(x)\n",
    "    x = nn.relu(x)\n",
    "    x = nn.Dense(features=dense_size//2)(x)\n",
    "    x = nn.relu(x)\n",
    "    x = nn.Dense(features=dense_size//4)(x)\n",
    "    x = nn.relu(x)\n",
    "    x = nn.Dense(features=2)(x)\n",
    "    return x"
   ]
  },
  {
   "cell_type": "code",
   "execution_count": 8,
   "id": "5e0186af-8c44-40d0-a961-a7fb5b173fa1",
   "metadata": {},
   "outputs": [
    {
     "name": "stdout",
     "output_type": "stream",
     "text": [
      "46\n"
     ]
    }
   ],
   "source": [
    "dense_size = int(7 * np.sqrt(2 * N_bath + 2))\n",
    "print(dense_size)"
   ]
  },
  {
   "cell_type": "code",
   "execution_count": 9,
   "id": "07dbfc3d-f2f4-48df-8348-02f03a840494",
   "metadata": {},
   "outputs": [],
   "source": [
    "classifier = sx.BasisClassifier(nn_call_on_bits)"
   ]
  },
  {
   "cell_type": "code",
   "execution_count": 10,
   "id": "8cf58c0c-34a9-42ee-8cea-29789e889d80",
   "metadata": {},
   "outputs": [
    {
     "name": "stdout",
     "output_type": "stream",
     "text": [
      "\n",
      "\u001b[3m                                 Module Summary                                 \u001b[0m\n",
      "┏━━━━━━━━━┳━━━━━━━━┳━━━━━━━━━━━━━━━━┳━━━━━━━━━━━━━━━━┳━━━━━━━━━━━━━━━━━━━━━━━━━┓\n",
      "┃\u001b[1m \u001b[0m\u001b[1mpath   \u001b[0m\u001b[1m \u001b[0m┃\u001b[1m \u001b[0m\u001b[1mmodule\u001b[0m\u001b[1m \u001b[0m┃\u001b[1m \u001b[0m\u001b[1minputs        \u001b[0m\u001b[1m \u001b[0m┃\u001b[1m \u001b[0m\u001b[1moutputs       \u001b[0m\u001b[1m \u001b[0m┃\u001b[1m \u001b[0m\u001b[1mparams                 \u001b[0m\u001b[1m \u001b[0m┃\n",
      "┡━━━━━━━━━╇━━━━━━━━╇━━━━━━━━━━━━━━━━╇━━━━━━━━━━━━━━━━╇━━━━━━━━━━━━━━━━━━━━━━━━━┩\n",
      "│         │ Module │ \u001b[2muint8\u001b[0m[2,6]     │ \u001b[2mfloat32\u001b[0m[2,2]   │                         │\n",
      "├─────────┼────────┼────────────────┼────────────────┼─────────────────────────┤\n",
      "│ Conv_0  │ Conv   │ \u001b[2muint8\u001b[0m[22,2]    │ \u001b[2mfloat32\u001b[0m[21,64] │ bias: \u001b[2mfloat32\u001b[0m[64]       │\n",
      "│         │        │                │                │ kernel: \u001b[2mfloat32\u001b[0m[2,2,64] │\n",
      "│         │        │                │                │                         │\n",
      "│         │        │                │                │ \u001b[1m320 \u001b[0m\u001b[1;2m(1.3 KB)\u001b[0m            │\n",
      "├─────────┼────────┼────────────────┼────────────────┼─────────────────────────┤\n",
      "│ Conv_1  │ Conv   │ \u001b[2mfloat32\u001b[0m[21,64] │ \u001b[2mfloat32\u001b[0m[21,4]  │ bias: \u001b[2mfloat32\u001b[0m[4]        │\n",
      "│         │        │                │                │ kernel: \u001b[2mfloat32\u001b[0m[1,64,4] │\n",
      "│         │        │                │                │                         │\n",
      "│         │        │                │                │ \u001b[1m260 \u001b[0m\u001b[1;2m(1.0 KB)\u001b[0m            │\n",
      "├─────────┼────────┼────────────────┼────────────────┼─────────────────────────┤\n",
      "│ Dense_0 │ Dense  │ \u001b[2mfloat32\u001b[0m[84]    │ \u001b[2mfloat32\u001b[0m[46]    │ bias: \u001b[2mfloat32\u001b[0m[46]       │\n",
      "│         │        │                │                │ kernel: \u001b[2mfloat32\u001b[0m[84,46]  │\n",
      "│         │        │                │                │                         │\n",
      "│         │        │                │                │ \u001b[1m3,910 \u001b[0m\u001b[1;2m(15.6 KB)\u001b[0m         │\n",
      "├─────────┼────────┼────────────────┼────────────────┼─────────────────────────┤\n",
      "│ Dense_1 │ Dense  │ \u001b[2mfloat32\u001b[0m[46]    │ \u001b[2mfloat32\u001b[0m[23]    │ bias: \u001b[2mfloat32\u001b[0m[23]       │\n",
      "│         │        │                │                │ kernel: \u001b[2mfloat32\u001b[0m[46,23]  │\n",
      "│         │        │                │                │                         │\n",
      "│         │        │                │                │ \u001b[1m1,081 \u001b[0m\u001b[1;2m(4.3 KB)\u001b[0m          │\n",
      "├─────────┼────────┼────────────────┼────────────────┼─────────────────────────┤\n",
      "│ Dense_2 │ Dense  │ \u001b[2mfloat32\u001b[0m[23]    │ \u001b[2mfloat32\u001b[0m[11]    │ bias: \u001b[2mfloat32\u001b[0m[11]       │\n",
      "│         │        │                │                │ kernel: \u001b[2mfloat32\u001b[0m[23,11]  │\n",
      "│         │        │                │                │                         │\n",
      "│         │        │                │                │ \u001b[1m264 \u001b[0m\u001b[1;2m(1.1 KB)\u001b[0m            │\n",
      "├─────────┼────────┼────────────────┼────────────────┼─────────────────────────┤\n",
      "│ Dense_3 │ Dense  │ \u001b[2mfloat32\u001b[0m[11]    │ \u001b[2mfloat32\u001b[0m[2]     │ bias: \u001b[2mfloat32\u001b[0m[2]        │\n",
      "│         │        │                │                │ kernel: \u001b[2mfloat32\u001b[0m[11,2]   │\n",
      "│         │        │                │                │                         │\n",
      "│         │        │                │                │ \u001b[1m24 \u001b[0m\u001b[1;2m(96 B)\u001b[0m               │\n",
      "├─────────┼────────┼────────────────┼────────────────┼─────────────────────────┤\n",
      "│\u001b[1m \u001b[0m\u001b[1m       \u001b[0m\u001b[1m \u001b[0m│\u001b[1m \u001b[0m\u001b[1m      \u001b[0m\u001b[1m \u001b[0m│\u001b[1m \u001b[0m\u001b[1m              \u001b[0m\u001b[1m \u001b[0m│\u001b[1m \u001b[0m\u001b[1m         Total\u001b[0m\u001b[1m \u001b[0m│\u001b[1m \u001b[0m\u001b[1m5,859 \u001b[0m\u001b[1;2m(23.4 KB)\u001b[0m\u001b[1m        \u001b[0m\u001b[1m \u001b[0m│\n",
      "└─────────┴────────┴────────────────┴────────────────┴─────────────────────────┘\n",
      "\u001b[1m                                                                                \u001b[0m\n",
      "\u001b[1m                       Total Parameters: 5,859 \u001b[0m\u001b[1;2m(23.4 KB)\u001b[0m\u001b[1m                        \u001b[0m\n",
      "\n",
      "\n"
     ]
    }
   ],
   "source": [
    "rand_keys = sx.RandomKeys(seed=1234)\n",
    "key_for_nn = next(rand_keys)\n",
    "\n",
    "optimizer = optax.adam(learning_rate=0.005)\n",
    "\n",
    "classifier.initialize(key_for_nn, basis_start, optimizer)\n",
    "classifier.print_summary()"
   ]
  },
  {
   "cell_type": "code",
   "execution_count": 11,
   "id": "846a5c13-d056-40ad-83a8-aa7ff844596d",
   "metadata": {},
   "outputs": [
    {
     "name": "stdout",
     "output_type": "stream",
     "text": [
      "58984\n"
     ]
    }
   ],
   "source": [
    "basis_small = basis\n",
    "del basis\n",
    "\n",
    "basis_big = H(basis_small)\n",
    "print(len(basis_big))"
   ]
  },
  {
   "cell_type": "code",
   "execution_count": 12,
   "id": "b040985b-b84c-485d-8764-c6e686e22bc7",
   "metadata": {},
   "outputs": [
    {
     "name": "stdout",
     "output_type": "stream",
     "text": [
      "51900\n"
     ]
    }
   ],
   "source": [
    "candidates = basis_big % basis_small\n",
    "print(len(candidates))"
   ]
  },
  {
   "cell_type": "markdown",
   "id": "a1cec40c-d35a-42f7-b293-414bcdb7b7e3",
   "metadata": {},
   "source": [
    "## BigBasisManager"
   ]
  },
  {
   "cell_type": "code",
   "execution_count": 13,
   "id": "21aa7658-72a5-4ad9-b4e1-d3f9c34a20db",
   "metadata": {},
   "outputs": [],
   "source": [
    "bbm = sx.BigBasisManager(candidates, classifier)"
   ]
  },
  {
   "cell_type": "code",
   "execution_count": 14,
   "id": "7ec5588e-4c8f-40af-9955-5746a15cf637",
   "metadata": {},
   "outputs": [
    {
     "name": "stdout",
     "output_type": "stream",
     "text": [
      "12143\n"
     ]
    }
   ],
   "source": [
    "target_num = int(np.sqrt(len(basis_big)) * 50)\n",
    "print(target_num)"
   ]
  },
  {
   "cell_type": "code",
   "execution_count": 15,
   "id": "3e2e8b33-ad36-4398-af59-0fbeb6af5eb7",
   "metadata": {},
   "outputs": [
    {
     "name": "stdout",
     "output_type": "stream",
     "text": [
      "8095\n"
     ]
    }
   ],
   "source": [
    "random_num = int(target_num / 1.5)\n",
    "print(random_num)"
   ]
  },
  {
   "cell_type": "code",
   "execution_count": 16,
   "id": "078dc97e-4e1f-40ff-8eea-fbeb525e07ca",
   "metadata": {},
   "outputs": [],
   "source": [
    "random_sel = bbm.sample_subbasis(next(rand_keys), random_num)"
   ]
  },
  {
   "cell_type": "code",
   "execution_count": 17,
   "id": "13b929e7-ecb7-4426-9b1e-f2a7f3f197ce",
   "metadata": {},
   "outputs": [
    {
     "name": "stdout",
     "output_type": "stream",
     "text": [
      "True\n",
      "8095\n"
     ]
    }
   ],
   "source": [
    "print(isinstance(random_sel, sx.Basis))\n",
    "print(len(random_sel))"
   ]
  },
  {
   "cell_type": "code",
   "execution_count": 18,
   "id": "ae6c5936-e1cf-4565-af25-bd10ffdfd803",
   "metadata": {},
   "outputs": [
    {
     "name": "stdout",
     "output_type": "stream",
     "text": [
      "15179\n"
     ]
    }
   ],
   "source": [
    "basis_diag = basis_small + random_sel\n",
    "print(len(basis_diag))"
   ]
  },
  {
   "cell_type": "code",
   "execution_count": 19,
   "id": "0e415781-d5f9-4bb2-96fb-eafcdf6d76ff",
   "metadata": {},
   "outputs": [
    {
     "name": "stdout",
     "output_type": "stream",
     "text": [
      "Intermediate energy:\t-31.720920015599123\n"
     ]
    }
   ],
   "source": [
    "matrix = H.build_matrix(basis_diag)\n",
    "result = sp.sparse.linalg.eigsh(matrix.to_scipy(), k=1, which=\"SA\")\n",
    "\n",
    "energy = result[0][0]\n",
    "print(f\"Intermediate energy:\\t{energy}\")"
   ]
  },
  {
   "cell_type": "code",
   "execution_count": 20,
   "id": "f2c84115-3629-4710-9081-0cf4c2aae67c",
   "metadata": {},
   "outputs": [],
   "source": [
    "eigenvec = result[1][:, 0]\n",
    "state_diag = sx.State(basis_diag, eigenvec)"
   ]
  },
  {
   "cell_type": "code",
   "execution_count": 21,
   "id": "cb57e4d8-1f67-45a9-b96d-68711d1fee57",
   "metadata": {},
   "outputs": [
    {
     "data": {
      "text/plain": [
       "8095"
      ]
     },
     "execution_count": 21,
     "metadata": {},
     "output_type": "execute_result"
    }
   ],
   "source": [
    "state_train = state_diag % basis_small\n",
    "len(state_train)"
   ]
  },
  {
   "cell_type": "code",
   "execution_count": 22,
   "id": "01c4f924-2fe5-4335-b733-50055d3c5674",
   "metadata": {},
   "outputs": [
    {
     "name": "stdout",
     "output_type": "stream",
     "text": [
      "Cutoff:\t0.00020762079204639022\n"
     ]
    }
   ],
   "source": [
    "abs_coeff_cut = bbm.derive_abs_coeff_cut(target_num, state_train)\n",
    "print(f\"Cutoff:\\t{abs_coeff_cut}\")"
   ]
  },
  {
   "cell_type": "code",
   "execution_count": 23,
   "id": "6a9f9238-1f22-4e43-8da0-f16729bd2346",
   "metadata": {},
   "outputs": [
    {
     "name": "stdout",
     "output_type": "stream",
     "text": [
      "1893\n"
     ]
    }
   ],
   "source": [
    "state_train_impt = state_train.chop(abs_coeff_cut)\n",
    "print(len(state_train_impt))"
   ]
  },
  {
   "cell_type": "code",
   "execution_count": 24,
   "id": "589b95ec-4596-403d-b341-4c3b4a6cf4eb",
   "metadata": {},
   "outputs": [
    {
     "name": "stdout",
     "output_type": "stream",
     "text": [
      "0.23384805435453984\n"
     ]
    }
   ],
   "source": [
    "print(len(state_train_impt) / len(state_train))"
   ]
  },
  {
   "cell_type": "code",
   "execution_count": 25,
   "id": "a7ad93c5-9936-4fbe-a785-f51bda4615b7",
   "metadata": {},
   "outputs": [
    {
     "name": "stdout",
     "output_type": "stream",
     "text": [
      "0.23396917148362234\n"
     ]
    }
   ],
   "source": [
    "print(target_num / len(candidates))"
   ]
  },
  {
   "cell_type": "code",
   "execution_count": 26,
   "id": "d33afbe8-9d85-4b45-b5fc-b158f3a3cd5d",
   "metadata": {},
   "outputs": [
    {
     "name": "stdout",
     "output_type": "stream",
     "text": [
      "Started:\taccuracy=2.472703e-01\n",
      "Epoch 0:\taccuracy=7.993290e-01\n",
      "Epoch 1:\taccuracy=8.385327e-01\n",
      "Epoch 2:\taccuracy=8.559730e-01\n",
      "Epoch 3:\taccuracy=8.589044e-01\n",
      "Epoch 4:\taccuracy=8.705290e-01\n",
      "Epoch 5:\taccuracy=8.602961e-01\n",
      "Epoch 6:\taccuracy=8.913646e-01\n",
      "Epoch 7:\taccuracy=8.637385e-01\n",
      "Epoch 8:\taccuracy=9.182444e-01\n",
      "Epoch 9:\taccuracy=9.271260e-01\n",
      "Epoch 10:\taccuracy=9.412651e-01\n",
      "Epoch 11:\taccuracy=9.384749e-01\n",
      "Epoch 12:\taccuracy=9.446133e-01\n",
      "Epoch 13:\taccuracy=9.393086e-01\n",
      "Epoch 14:\taccuracy=9.540528e-01\n",
      "Epoch 15:\taccuracy=9.496827e-01\n",
      "Epoch 16:\taccuracy=9.491246e-01\n",
      "Epoch 17:\taccuracy=9.478675e-01\n",
      "Epoch 18:\taccuracy=9.518678e-01\n",
      "True\n"
     ]
    }
   ],
   "source": [
    "early_stopped = bbm.train_classifier(\n",
    "    next(rand_keys),\n",
    "    state_train,\n",
    "    abs_coeff_cut,\n",
    "    batch_size=256,\n",
    "    epochs=200,\n",
    "    early_stop=True,\n",
    "    early_stop_params={\"patience\": 3}\n",
    ")\n",
    "\n",
    "print(early_stopped)"
   ]
  },
  {
   "cell_type": "code",
   "execution_count": 27,
   "id": "3a94c1a5-a783-4592-b1ed-74a8262c7ccf",
   "metadata": {},
   "outputs": [
    {
     "name": "stdout",
     "output_type": "stream",
     "text": [
      "10711\n"
     ]
    }
   ],
   "source": [
    "nn_selected = bbm.predict_impt_subbasis(batch_size=256)\n",
    "nn_selected = nn_selected % state_train.basis\n",
    "print(len(nn_selected))"
   ]
  },
  {
   "cell_type": "code",
   "execution_count": 28,
   "id": "0ef19ef6-688b-4ca1-984a-436a23c4b4ba",
   "metadata": {},
   "outputs": [
    {
     "name": "stdout",
     "output_type": "stream",
     "text": [
      "12604\n",
      "0.0379642592440089\n"
     ]
    }
   ],
   "source": [
    "basis_impt = nn_selected + state_train_impt.basis\n",
    "print(len(basis_impt))\n",
    "print(abs(len(basis_impt) - target_num) / target_num)"
   ]
  },
  {
   "cell_type": "code",
   "execution_count": 29,
   "id": "43ada410-dffb-48bc-b6c3-dda9e3074cd2",
   "metadata": {},
   "outputs": [
    {
     "name": "stdout",
     "output_type": "stream",
     "text": [
      "Basis:\t19688\n",
      "Energy:\t-31.81742496812377\n"
     ]
    }
   ],
   "source": [
    "basis = basis_small + basis_impt\n",
    "\n",
    "matrix = H.build_matrix(basis)\n",
    "result = sp.sparse.linalg.eigsh(matrix.to_scipy(), k=1, which=\"SA\")\n",
    "\n",
    "energy = result[0][0]\n",
    "print(f\"Basis:\\t{len(basis)}\")\n",
    "print(f\"Energy:\\t{energy}\")"
   ]
  },
  {
   "cell_type": "code",
   "execution_count": 30,
   "id": "8dec6a31-e59d-42dd-8228-4a28e778fbd0",
   "metadata": {},
   "outputs": [
    {
     "name": "stdout",
     "output_type": "stream",
     "text": [
      "True\n"
     ]
    }
   ],
   "source": [
    "eigenvec = result[1][:, 0]\n",
    "state = sx.State(basis, eigenvec)\n",
    "\n",
    "nn_selected_state = state % basis_small % state_train.basis\n",
    "print(nn_selected_state.basis == nn_selected)"
   ]
  },
  {
   "cell_type": "code",
   "execution_count": 31,
   "id": "19b6ebf6-dbf3-4da3-a297-7ee95aa0f4d5",
   "metadata": {},
   "outputs": [
    {
     "name": "stdout",
     "output_type": "stream",
     "text": [
      "9039\n",
      "0.8438987956306601\n"
     ]
    }
   ],
   "source": [
    "nn_selected_right = nn_selected_state.chop(abs_coeff_cut).basis\n",
    "print(len(nn_selected_right))\n",
    "print(len(nn_selected_right) / len(nn_selected))"
   ]
  },
  {
   "cell_type": "code",
   "execution_count": 32,
   "id": "25cda044-d6e8-4872-ae64-567a434fef0d",
   "metadata": {},
   "outputs": [
    {
     "name": "stdout",
     "output_type": "stream",
     "text": [
      "18016\n"
     ]
    }
   ],
   "source": [
    "nn_selected_wrong = nn_selected % nn_selected_right\n",
    "basis_final = basis % nn_selected_wrong\n",
    "print(len(basis_final))"
   ]
  },
  {
   "cell_type": "markdown",
   "id": "3f86c8be-9405-40c8-949d-3465b54115ff",
   "metadata": {},
   "source": [
    "## Save / load"
   ]
  },
  {
   "cell_type": "code",
   "execution_count": 33,
   "id": "ac5e0164-e3de-41b9-8210-5012c6119494",
   "metadata": {},
   "outputs": [],
   "source": [
    "sx.save(basis_final, \"solax_basis_\")"
   ]
  },
  {
   "cell_type": "code",
   "execution_count": 34,
   "id": "09ab90b5-7f4c-471d-987f-66ec70cabea2",
   "metadata": {},
   "outputs": [
    {
     "name": "stdout",
     "output_type": "stream",
     "text": [
      "True\n"
     ]
    }
   ],
   "source": [
    "basis_loaded = sx.load(\"solax_basis_\")\n",
    "print(basis_loaded == basis_final)"
   ]
  },
  {
   "cell_type": "code",
   "execution_count": 35,
   "id": "a140a826-9c03-433a-be34-f78892b92e20",
   "metadata": {},
   "outputs": [],
   "source": [
    "dict_to_save = dict(\n",
    "    basis_from_nn=basis_final,\n",
    "    hamiltonian=H\n",
    ")\n",
    "\n",
    "sx.save(dict_to_save, \"solax_basis_ham_\")"
   ]
  },
  {
   "cell_type": "code",
   "execution_count": 36,
   "id": "8ba6ab02-09ae-4554-9f1e-c18e62e77f83",
   "metadata": {},
   "outputs": [
    {
     "name": "stdout",
     "output_type": "stream",
     "text": [
      "basis_from_nn has type Basis\n",
      "hamiltonian has type Operator\n"
     ]
    }
   ],
   "source": [
    "loaded_dict = sx.load(\"solax_basis_ham_\")\n",
    "\n",
    "for key, value in loaded_dict.items():\n",
    "    print(f\"{key} has type {type(value).__name__}\")"
   ]
  },
  {
   "cell_type": "code",
   "execution_count": 37,
   "id": "b455d729-82a4-4a60-a4d0-8befbcedf96c",
   "metadata": {},
   "outputs": [],
   "source": [
    "dict_to_save = dict(\n",
    "    info=\"This computation is a demonstration of SOLAX\",\n",
    "    params=dict(\n",
    "        N_bath=N_bath,\n",
    "        U_impurity=U\n",
    "    ),\n",
    "    basis_from_nn=basis_final,\n",
    "    last_epochs=dict(\n",
    "        epochs=np.array([22, 23, 24, 25, 26]),\n",
    "        accuracies=np.array([9.613544e-01, 9.513097e-01, 9.507517e-01,\n",
    "                             9.456353e-01, 9.568901e-01])\n",
    "    ),\n",
    "    random_keys_after=rand_keys\n",
    ")\n",
    "\n",
    "sx.save(dict_to_save, \"solax_big_save_\")"
   ]
  },
  {
   "cell_type": "code",
   "execution_count": 38,
   "id": "6b4d7570-2c3e-49d7-8dd5-c2cece3f5e47",
   "metadata": {},
   "outputs": [
    {
     "data": {
      "text/plain": [
       "{'info': 'This computation is a demonstration of SOLAX',\n",
       " 'params': {'N_bath': 21, 'U_impurity': 10},\n",
       " 'basis_from_nn': Basis(_encoding=array([[127, 255, 254,   0,   0,   0],\n",
       "        [223, 255, 254,   0,   0,   0],\n",
       "        [247, 255, 254,   0,   0,   0],\n",
       "        ...,\n",
       "        [127, 239, 127,   2,   0,   0],\n",
       "        [123, 247, 254,  64, 128,   0],\n",
       "        [127, 247, 190,  18,   0,   0]], dtype=uint8), _bitlen=44),\n",
       " 'last_epochs': {'epochs': array([22, 23, 24, 25, 26]),\n",
       "  'accuracies': array([0.9613544, 0.9513097, 0.9507517, 0.9456353, 0.9568901])},\n",
       " 'random_keys_after': RandomKeys(_key=Array([2236037635, 1430511502], dtype=uint32))}"
      ]
     },
     "execution_count": 38,
     "metadata": {},
     "output_type": "execute_result"
    }
   ],
   "source": [
    "sx.load(\"solax_big_save_\")"
   ]
  },
  {
   "cell_type": "code",
   "execution_count": 39,
   "id": "c67fae34-7574-4023-b8fb-fe87a5f676fb",
   "metadata": {},
   "outputs": [],
   "source": [
    "classifier.save_state(\"solax_nn_\")"
   ]
  },
  {
   "cell_type": "code",
   "execution_count": 40,
   "id": "956efc17-5c68-443c-9f6e-65ed3ce7d1cc",
   "metadata": {},
   "outputs": [],
   "source": [
    "loaded_nn = sx.BasisClassifier(nn_call_on_bits)\n",
    "\n",
    "fake_key = sx.RandomKeys.fake_key()\n",
    "loaded_nn.initialize(fake_key, basis_start, optimizer)"
   ]
  },
  {
   "cell_type": "code",
   "execution_count": 41,
   "id": "75ad8d4e-823d-4457-8c3e-9095f2ee0ab4",
   "metadata": {},
   "outputs": [],
   "source": [
    "loaded_nn.load_state(\"solax_nn_\")"
   ]
  },
  {
   "cell_type": "code",
   "execution_count": 42,
   "id": "76714524-d90d-476c-b34b-911d13b9c32a",
   "metadata": {},
   "outputs": [
    {
     "name": "stderr",
     "output_type": "stream",
     "text": [
      "/mpcdf/soft/SLE_15/packages/x86_64/anaconda/3/2023.03/lib/python3.10/pty.py:89: RuntimeWarning: os.fork() was called. os.fork() is incompatible with multithreaded code, and JAX is multithreaded, so this will likely lead to a deadlock.\n",
      "  pid, fd = os.forkpty()\n"
     ]
    }
   ],
   "source": [
    "## clean up\n",
    "#!rm -r solax_basis_\n",
    "#!rm -r solax_basis_ham_\n",
    "#!rm -r solax_big_save_\n",
    "#!rm -r solax_nn_"
   ]
  },
  {
   "cell_type": "code",
   "execution_count": null,
   "id": "a80d3b3d-638b-46f1-bc08-1a29182f62f5",
   "metadata": {},
   "outputs": [],
   "source": []
  }
 ],
 "metadata": {
  "kernelspec": {
   "display_name": "Python 3 (ipykernel)",
   "language": "python",
   "name": "python3"
  },
  "language_info": {
   "codemirror_mode": {
    "name": "ipython",
    "version": 3
   },
   "file_extension": ".py",
   "mimetype": "text/x-python",
   "name": "python",
   "nbconvert_exporter": "python",
   "pygments_lexer": "ipython3",
   "version": "3.10.9"
  }
 },
 "nbformat": 4,
 "nbformat_minor": 5
}
