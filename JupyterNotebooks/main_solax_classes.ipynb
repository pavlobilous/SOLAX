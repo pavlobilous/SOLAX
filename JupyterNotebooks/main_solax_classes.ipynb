{
 "cells": [
  {
   "cell_type": "code",
   "execution_count": null,
   "id": "f7fd1558-83c6-4404-b39e-695bb759c122",
   "metadata": {},
   "outputs": [],
   "source": [
    "import numpy as np\n",
    "\n",
    "import sys\n",
    "sys.path.append(\"..\")\n",
    "import solax as sx"
   ]
  },
  {
   "cell_type": "markdown",
   "id": "ee66d2d5-045b-42e9-b6ee-dd0b68d0586a",
   "metadata": {},
   "source": [
    "## 1. Basis"
   ]
  },
  {
   "cell_type": "code",
   "execution_count": null,
   "id": "44196d98-c4f6-4f97-844a-4474d492afb0",
   "metadata": {},
   "outputs": [],
   "source": [
    "basis = sx.Basis([\"1100\", \"1010\", \"1001\", \"0110\", \"0101\", \"0011\"])"
   ]
  },
  {
   "cell_type": "code",
   "execution_count": null,
   "id": "17ed5ff8-d875-4691-b0d1-ec67b3550b3d",
   "metadata": {},
   "outputs": [],
   "source": [
    "print(basis)"
   ]
  },
  {
   "cell_type": "code",
   "execution_count": null,
   "id": "f9067e46-d978-43b6-9950-30ae72532795",
   "metadata": {},
   "outputs": [],
   "source": [
    "with sx.dets_printing_limit(10):\n",
    "    print(basis)"
   ]
  },
  {
   "cell_type": "code",
   "execution_count": null,
   "id": "b6a77911-50ee-42f8-b630-0e824e603a61",
   "metadata": {},
   "outputs": [],
   "source": [
    "print(basis.bitlen)"
   ]
  },
  {
   "cell_type": "code",
   "execution_count": null,
   "id": "3daa4b06-631e-4e71-94a6-42a96d6d276f",
   "metadata": {},
   "outputs": [],
   "source": [
    "print(len(basis))"
   ]
  },
  {
   "cell_type": "code",
   "execution_count": null,
   "id": "24d3e05e-1ee5-4dbe-a5e7-f2ede0a4dc36",
   "metadata": {},
   "outputs": [],
   "source": [
    "print(basis[0])"
   ]
  },
  {
   "cell_type": "code",
   "execution_count": null,
   "id": "13be8713-0c21-4eaf-997f-d6c6575e0972",
   "metadata": {},
   "outputs": [],
   "source": [
    "print(basis[0:3])"
   ]
  },
  {
   "cell_type": "code",
   "execution_count": null,
   "id": "bbcead07-6532-4842-ad66-ababa70fa2d6",
   "metadata": {},
   "outputs": [],
   "source": [
    "print(basis[0, 1, 4])"
   ]
  },
  {
   "cell_type": "code",
   "execution_count": null,
   "id": "6fc21253-3e4b-41d8-8abe-6d6203ac6f10",
   "metadata": {},
   "outputs": [],
   "source": [
    "print(basis[True, True, False, False, True, False])"
   ]
  },
  {
   "cell_type": "code",
   "execution_count": null,
   "id": "a0350b5b-101b-4a3f-85ef-6b21cdabaa6f",
   "metadata": {},
   "outputs": [],
   "source": [
    "print(basis == basis[::-1])"
   ]
  },
  {
   "cell_type": "code",
   "execution_count": null,
   "id": "82413f83-f8f2-4a42-8df8-e3e35fcf31cf",
   "metadata": {},
   "outputs": [],
   "source": [
    "basis_even = basis[::2]\n",
    "basis_odd = basis[1::2]"
   ]
  },
  {
   "cell_type": "code",
   "execution_count": null,
   "id": "71218c12-aa7c-4889-a2cf-b2c6b4a3fdf6",
   "metadata": {},
   "outputs": [],
   "source": [
    "print(basis_even + basis_odd == basis)"
   ]
  },
  {
   "cell_type": "code",
   "execution_count": null,
   "id": "628be9be-d382-408d-9892-000e89874195",
   "metadata": {},
   "outputs": [],
   "source": [
    "print(basis + basis == basis)"
   ]
  },
  {
   "cell_type": "code",
   "execution_count": null,
   "id": "e35aa66d-e56a-4f38-ad2b-35eae26a5fee",
   "metadata": {},
   "outputs": [],
   "source": [
    "print(basis % basis_even == basis_odd)"
   ]
  },
  {
   "cell_type": "markdown",
   "id": "a0590017-a602-4375-99e9-fef8671aa09d",
   "metadata": {},
   "source": [
    "## 2. State"
   ]
  },
  {
   "cell_type": "code",
   "execution_count": null,
   "id": "b461e7a8-c2f5-4ab9-84c8-81db89a68d37",
   "metadata": {},
   "outputs": [],
   "source": [
    "state = sx.State(basis, np.ones(6))"
   ]
  },
  {
   "cell_type": "code",
   "execution_count": null,
   "id": "6ebf985d-c6b6-4dfd-bfd7-571ede89373e",
   "metadata": {},
   "outputs": [],
   "source": [
    "print(state)"
   ]
  },
  {
   "cell_type": "code",
   "execution_count": null,
   "id": "4b096497-54ab-4248-a6af-46220d802911",
   "metadata": {},
   "outputs": [],
   "source": [
    "print(state.basis)"
   ]
  },
  {
   "cell_type": "code",
   "execution_count": null,
   "id": "90b20c3f-bb8d-48b8-bd75-19d125902b9c",
   "metadata": {},
   "outputs": [],
   "source": [
    "print(state.coeffs)"
   ]
  },
  {
   "cell_type": "code",
   "execution_count": null,
   "id": "379c3c16-40c7-4781-85d6-70161e6bff95",
   "metadata": {},
   "outputs": [],
   "source": [
    "state_odd = state % basis_even\n",
    "print(state_odd)"
   ]
  },
  {
   "cell_type": "code",
   "execution_count": null,
   "id": "21c32f26-3626-4950-86a3-db66a8e95fe4",
   "metadata": {},
   "outputs": [],
   "source": [
    "print(state_odd.basis == basis_odd)"
   ]
  },
  {
   "cell_type": "code",
   "execution_count": null,
   "id": "e0e13522-a87d-47c8-8d88-df38638bb0cc",
   "metadata": {},
   "outputs": [],
   "source": [
    "print(2 * state)"
   ]
  },
  {
   "cell_type": "code",
   "execution_count": null,
   "id": "dbd9507e-5b6d-4a8d-8bfb-d653ec8774d0",
   "metadata": {},
   "outputs": [],
   "source": [
    "print(state * 1j)"
   ]
  },
  {
   "cell_type": "code",
   "execution_count": null,
   "id": "a661e0f0-fce9-4bde-8176-648d1652b6ce",
   "metadata": {},
   "outputs": [],
   "source": [
    "print(state / 2)"
   ]
  },
  {
   "cell_type": "code",
   "execution_count": null,
   "id": "0f258540-a410-45c7-87b1-ac3e65321d23",
   "metadata": {},
   "outputs": [],
   "source": [
    "print(-state)"
   ]
  },
  {
   "cell_type": "code",
   "execution_count": null,
   "id": "feacec0e-afe8-48a1-8fb1-2bf062d6c725",
   "metadata": {},
   "outputs": [],
   "source": [
    "state1 = state[0, 1, 4]\n",
    "print(state1)"
   ]
  },
  {
   "cell_type": "code",
   "execution_count": null,
   "id": "fe97ba8e-5711-4d57-b361-b8de8b66bc7c",
   "metadata": {},
   "outputs": [],
   "source": [
    "state2 = state[0, 3]\n",
    "print(state2)"
   ]
  },
  {
   "cell_type": "code",
   "execution_count": null,
   "id": "47aa8ca1-1225-44a1-8b81-442cefcebb17",
   "metadata": {},
   "outputs": [],
   "source": [
    "print(state1 + state2)"
   ]
  },
  {
   "cell_type": "code",
   "execution_count": null,
   "id": "57ac2b9f-6326-46b7-b146-61a48c599482",
   "metadata": {},
   "outputs": [],
   "source": [
    "print(state1 - state2)"
   ]
  },
  {
   "cell_type": "code",
   "execution_count": null,
   "id": "d540039f-5a58-42b1-9cbd-a94e6e284a9e",
   "metadata": {},
   "outputs": [],
   "source": [
    "print(0.1 + 0.1 - 0.2)\n",
    "print(0.1 + 0.2 - 0.3)"
   ]
  },
  {
   "cell_type": "code",
   "execution_count": null,
   "id": "9a97a1ed-f909-486c-82c7-ed80b688b9ba",
   "metadata": {},
   "outputs": [],
   "source": [
    "print(state1 * state2)"
   ]
  },
  {
   "cell_type": "code",
   "execution_count": null,
   "id": "a62eba77-b156-4590-81b8-8d73352d969e",
   "metadata": {},
   "outputs": [],
   "source": [
    "print(state * state)"
   ]
  },
  {
   "cell_type": "code",
   "execution_count": null,
   "id": "dd7a9839-0d83-45fb-9224-7a4051815b59",
   "metadata": {},
   "outputs": [],
   "source": [
    "state_normalized = state.normalize()\n",
    "print(state_normalized * state_normalized)"
   ]
  },
  {
   "cell_type": "code",
   "execution_count": null,
   "id": "74ef5864-e6b0-4d87-a7c3-29ccea1f9829",
   "metadata": {},
   "outputs": [],
   "source": [
    "state3 = state2[-1]\n",
    "state123 = state1 - state2 - state3\n",
    "print(state123)"
   ]
  },
  {
   "cell_type": "code",
   "execution_count": null,
   "id": "ba39b87f-c9aa-4fba-995e-39ed27f63065",
   "metadata": {},
   "outputs": [],
   "source": [
    "state_chopped1 = state123.chop(1e-14)\n",
    "print(state_chopped1)"
   ]
  },
  {
   "cell_type": "code",
   "execution_count": null,
   "id": "03b1a5ca-92ba-498c-afbe-9d1aaea7ada0",
   "metadata": {},
   "outputs": [],
   "source": [
    "state_chopped2 = state123.chop(1.5)\n",
    "print(state_chopped2)"
   ]
  },
  {
   "cell_type": "code",
   "execution_count": null,
   "id": "ee270be7-3f16-492d-bb0e-ed35b3ea5e9c",
   "metadata": {},
   "outputs": [],
   "source": [
    "state_chopped3 = state123.chop(2.5)\n",
    "print(state_chopped3)\n",
    "print(len(state_chopped3))"
   ]
  },
  {
   "cell_type": "code",
   "execution_count": null,
   "id": "701482c2-1542-4bb2-bff4-603f11ec18d9",
   "metadata": {},
   "outputs": [],
   "source": [
    "state_mini = state[:2]\n",
    "state_a = 0.1 * state_mini + 0.2 * state_mini\n",
    "print(state_a)"
   ]
  },
  {
   "cell_type": "code",
   "execution_count": null,
   "id": "62102e02-0cb0-4ee3-a94d-700ef4dd9372",
   "metadata": {},
   "outputs": [],
   "source": [
    "state_b = 0.3 * state_mini\n",
    "print(state_b)"
   ]
  },
  {
   "cell_type": "code",
   "execution_count": null,
   "id": "c15b97b3-f49a-4e18-a4b7-11420b71adbe",
   "metadata": {},
   "outputs": [],
   "source": [
    "state_diff = state_a - state_b\n",
    "print(state_diff)"
   ]
  },
  {
   "cell_type": "code",
   "execution_count": null,
   "id": "519eaca9-69a2-4aa5-aa9e-fe28a1e31dde",
   "metadata": {},
   "outputs": [],
   "source": [
    "state_zero = state_diff.chop(1e-14)\n",
    "print(len(state_zero))"
   ]
  },
  {
   "cell_type": "markdown",
   "id": "72cc2476-3dfc-415f-b536-0149cc40e815",
   "metadata": {},
   "source": [
    "## 3. OperatorTerm"
   ]
  },
  {
   "cell_type": "code",
   "execution_count": null,
   "id": "2421b280-8bd2-4513-a813-45fccca5cf14",
   "metadata": {},
   "outputs": [],
   "source": [
    "daggers = (1, 0)\n",
    "\n",
    "posits = np.array([\n",
    "    [1, 3],\n",
    "    [2, 4]\n",
    "]) - 1\n",
    "\n",
    "coeffs = np.array([\n",
    "    1.0,\n",
    "    1.0\n",
    "])"
   ]
  },
  {
   "cell_type": "code",
   "execution_count": null,
   "id": "eefeddf8-a2b1-4618-901e-e0cf62816682",
   "metadata": {},
   "outputs": [],
   "source": [
    "V0 = sx.OperatorTerm(daggers, posits, coeffs)\n",
    "print(V0)"
   ]
  },
  {
   "cell_type": "code",
   "execution_count": null,
   "id": "bb725f46-7816-44d0-9afc-7b30d2638ee3",
   "metadata": {},
   "outputs": [],
   "source": [
    "print(V0.hconj)"
   ]
  },
  {
   "cell_type": "code",
   "execution_count": null,
   "id": "4c089b41-d535-45b3-9ac3-1204f3bda14b",
   "metadata": {},
   "outputs": [],
   "source": [
    "V = V0 + V0.hconj\n",
    "print(V)"
   ]
  },
  {
   "cell_type": "code",
   "execution_count": null,
   "id": "8f70145f-3e2e-4d6f-9e0f-3c83e2fe1e9b",
   "metadata": {},
   "outputs": [],
   "source": [
    "basis = sx.Basis([\"1001\", \"0110\"])\n",
    "coeffs = np.array([1.0, -1.0])\n",
    "\n",
    "psi = sx.State(basis, coeffs)\n",
    "psi = psi.normalize()\n",
    "\n",
    "print(psi)"
   ]
  },
  {
   "cell_type": "code",
   "execution_count": null,
   "id": "0c600f9c-3b66-44bd-b57e-84ff1190efa5",
   "metadata": {},
   "outputs": [],
   "source": [
    "result_psi = V(psi)\n",
    "print(result_psi)"
   ]
  },
  {
   "cell_type": "code",
   "execution_count": null,
   "id": "497957c6-4cb3-42ab-9a21-bf327eb8bc91",
   "metadata": {},
   "outputs": [],
   "source": [
    "result_basis = V(psi.basis)\n",
    "print(result_basis)"
   ]
  },
  {
   "cell_type": "code",
   "execution_count": null,
   "id": "8fb84abe-ded0-4069-8ed5-bf13146b2a2b",
   "metadata": {},
   "outputs": [],
   "source": [
    "result_psi_batches = V(psi, det_batch_size=1, op_batch_size=2)"
   ]
  },
  {
   "cell_type": "code",
   "execution_count": null,
   "id": "a259ca6e-983a-4106-ab74-689cecaeb9d1",
   "metadata": {},
   "outputs": [],
   "source": [
    "s = result_psi_batches - result_psi\n",
    "s = s.chop(1e-14)\n",
    "print(len(s))"
   ]
  },
  {
   "cell_type": "markdown",
   "id": "bdc9e454-2aee-4a34-a098-2cfea8aa2872",
   "metadata": {},
   "source": [
    "## 4. Operator"
   ]
  },
  {
   "cell_type": "code",
   "execution_count": null,
   "id": "edaa4602-a86f-4db5-8766-c354df87240e",
   "metadata": {},
   "outputs": [],
   "source": [
    "op = sx.Operator(daggers, posits, coeffs)\n",
    "print(op)"
   ]
  },
  {
   "cell_type": "code",
   "execution_count": null,
   "id": "67bd6846-9548-41f2-97d5-90efcee89e57",
   "metadata": {},
   "outputs": [],
   "source": [
    "print(sx.Operator(V0))"
   ]
  },
  {
   "cell_type": "code",
   "execution_count": null,
   "id": "f6412a10-1bb5-4f65-8dd7-977a5675fa2b",
   "metadata": {},
   "outputs": [],
   "source": [
    "daggers_u = (1, 0, 1, 0)\n",
    "posits_u = np.array([\n",
    "    [1, 1, 2, 2],\n",
    "    [3, 3, 4, 4]\n",
    "]) - 1\n",
    "coeffs_u = np.array([0.25, 0.75])\n",
    "\n",
    "U = sx.Operator(daggers_u, posits_u, coeffs_u)\n",
    "print(U)"
   ]
  },
  {
   "cell_type": "code",
   "execution_count": null,
   "id": "6f820874-e36b-4a80-a026-efb894ad51cc",
   "metadata": {},
   "outputs": [],
   "source": [
    "H = 1 + V0 + V0.hconj + U\n",
    "print(H)"
   ]
  },
  {
   "cell_type": "code",
   "execution_count": null,
   "id": "7d15d55a-6cf9-4a6c-9c5d-01084a4b7dae",
   "metadata": {},
   "outputs": [],
   "source": [
    "print(H[1, 0, 1, 0])"
   ]
  },
  {
   "cell_type": "code",
   "execution_count": null,
   "id": "5882aa83-21ba-422f-8180-de75fbba5548",
   "metadata": {},
   "outputs": [],
   "source": [
    "print(H[\"scalar\"])"
   ]
  },
  {
   "cell_type": "code",
   "execution_count": null,
   "id": "ed55bc09-c1b4-4dd3-b364-64872a42dd0e",
   "metadata": {},
   "outputs": [],
   "source": [
    "for key in H.keys():\n",
    "    print(key)"
   ]
  },
  {
   "cell_type": "code",
   "execution_count": null,
   "id": "3b07360e-4e24-451f-996d-825b1122c628",
   "metadata": {},
   "outputs": [],
   "source": [
    "print(len(H))"
   ]
  },
  {
   "cell_type": "code",
   "execution_count": null,
   "id": "353ea902-35fb-4bfa-8952-e7aeded2fd38",
   "metadata": {},
   "outputs": [],
   "source": [
    "for key, term in H.items():\n",
    "    if key != \"scalar\":\n",
    "        print(f\"Length of the OperatorTerm {key} is {len(term)}\")"
   ]
  },
  {
   "cell_type": "code",
   "execution_count": null,
   "id": "960eeb3e-47b7-4949-9cf2-84b19ac6a6be",
   "metadata": {},
   "outputs": [],
   "source": [
    "H_without_V = H.drop(1, 0)\n",
    "print((1, 0) in H_without_V)"
   ]
  },
  {
   "cell_type": "code",
   "execution_count": null,
   "id": "870ba6fe-1419-4518-9eb3-afcaab99c204",
   "metadata": {},
   "outputs": [],
   "source": [
    "H_without_scalar = H.drop(\"scalar\")\n",
    "print(\"scalar\" in H_without_scalar)"
   ]
  },
  {
   "cell_type": "code",
   "execution_count": null,
   "id": "5526e38f-a971-4918-9bf1-573613a1f883",
   "metadata": {},
   "outputs": [],
   "source": [
    "H_chopped1 = H.chop((1, 0, 1, 0), 0.5)\n",
    "print(len(H_chopped1[1, 0, 1, 0]))"
   ]
  },
  {
   "cell_type": "code",
   "execution_count": null,
   "id": "16c44960-92a1-435c-be44-1c95936d6916",
   "metadata": {},
   "outputs": [],
   "source": [
    "H_chopped2 = H.chop((1, 0, 1, 0), 1.0)\n",
    "print((1, 0, 1, 0) in H_chopped2)"
   ]
  },
  {
   "cell_type": "markdown",
   "id": "590ec951-9940-42e9-bbce-52db4a42cb03",
   "metadata": {},
   "source": [
    "## 5. OperatorMatrix"
   ]
  },
  {
   "cell_type": "code",
   "execution_count": null,
   "id": "a3d01c58-b8f2-48d5-b3b1-bedb4454ad46",
   "metadata": {},
   "outputs": [],
   "source": [
    "basis = sx.Basis([\"1001\", \"1100\", \"0110\", \"0011\"])"
   ]
  },
  {
   "cell_type": "code",
   "execution_count": null,
   "id": "d573dfaa-5fdd-425e-873b-b0c113768df6",
   "metadata": {},
   "outputs": [],
   "source": [
    "matrix = H.build_matrix(basis)\n",
    "print(matrix)"
   ]
  },
  {
   "cell_type": "code",
   "execution_count": null,
   "id": "38089fab-1eb4-4d28-8492-8429da86a987",
   "metadata": {},
   "outputs": [],
   "source": [
    "print(matrix.size)"
   ]
  },
  {
   "cell_type": "code",
   "execution_count": null,
   "id": "d6b3e6fe-7905-42b1-95a9-92180aba409f",
   "metadata": {},
   "outputs": [],
   "source": [
    "print(matrix.num_nonzero)"
   ]
  },
  {
   "cell_type": "code",
   "execution_count": null,
   "id": "8ecb7247-6ad0-47c9-856b-ce85745e4172",
   "metadata": {},
   "outputs": [],
   "source": [
    "coo_matrix = matrix.to_scipy()"
   ]
  },
  {
   "cell_type": "code",
   "execution_count": null,
   "id": "96f5c800-1674-4dfa-b4f7-adb344947dd3",
   "metadata": {},
   "outputs": [],
   "source": [
    "dense_matrix = coo_matrix.todense()\n",
    "print(dense_matrix)"
   ]
  },
  {
   "cell_type": "code",
   "execution_count": null,
   "id": "36c5e7b4-f715-490f-8eb4-7726be501c3c",
   "metadata": {},
   "outputs": [],
   "source": [
    "def print_matrix(m):\n",
    "    print(m.to_scipy().todense())"
   ]
  },
  {
   "cell_type": "code",
   "execution_count": null,
   "id": "0fd6cb7a-0070-419b-9f08-eb18ef3b23e6",
   "metadata": {
    "tags": []
   },
   "outputs": [],
   "source": [
    "print_matrix(matrix)"
   ]
  },
  {
   "cell_type": "code",
   "execution_count": null,
   "id": "c51f2b26-99db-4f22-90dc-7b9f22f84c15",
   "metadata": {},
   "outputs": [],
   "source": [
    "print_matrix(\n",
    "    matrix.displace(2, 1)\n",
    ")"
   ]
  },
  {
   "cell_type": "code",
   "execution_count": null,
   "id": "e8213dc6-b3d0-4a25-bd79-5ae4e8c26f90",
   "metadata": {},
   "outputs": [],
   "source": [
    "print_matrix(\n",
    "    matrix.displace(-1, -1)\n",
    ")"
   ]
  },
  {
   "cell_type": "code",
   "execution_count": null,
   "id": "e77efedc-77b7-42d0-9e46-e56c47766c82",
   "metadata": {},
   "outputs": [],
   "source": [
    "print_matrix(\n",
    "    matrix.window((1, 1), (3, 4))\n",
    ")"
   ]
  },
  {
   "cell_type": "code",
   "execution_count": null,
   "id": "59a241e3-1e83-47b7-8983-e9e04f196be2",
   "metadata": {},
   "outputs": [],
   "source": [
    "sub_basis = basis[0, 2]\n",
    "print(sub_basis)"
   ]
  },
  {
   "cell_type": "code",
   "execution_count": null,
   "id": "8c556326-3522-4d82-a80a-a05eaa426d83",
   "metadata": {},
   "outputs": [],
   "source": [
    "print_matrix(\n",
    "    matrix.shrink_basis(basis, sub_basis)\n",
    ")"
   ]
  },
  {
   "cell_type": "code",
   "execution_count": null,
   "id": "bf4ec7fb-5165-46bb-9382-9e959c9e2879",
   "metadata": {},
   "outputs": [],
   "source": [
    "print_matrix(\n",
    "    matrix.chop(1.1)\n",
    ")"
   ]
  },
  {
   "cell_type": "code",
   "execution_count": null,
   "id": "8fae978c-bebc-4495-b350-c19c912bd69f",
   "metadata": {},
   "outputs": [],
   "source": [
    "matrix3_3 = matrix.displace(-1, -1)\n",
    "print_matrix(matrix3_3)"
   ]
  },
  {
   "cell_type": "code",
   "execution_count": null,
   "id": "a5fffc7d-4a72-4492-9470-e83dcbfb0082",
   "metadata": {},
   "outputs": [],
   "source": [
    "matrix5_2 = matrix.displace(1, -2)\n",
    "print_matrix(matrix5_2)"
   ]
  },
  {
   "cell_type": "code",
   "execution_count": null,
   "id": "74864b42-52d4-40fc-997c-679dc7e2d290",
   "metadata": {},
   "outputs": [],
   "source": [
    "print_matrix(\n",
    "    matrix3_3 + matrix5_2\n",
    ")"
   ]
  },
  {
   "cell_type": "code",
   "execution_count": null,
   "id": "b69b98c1-6a08-405f-a3f6-82663158bd7b",
   "metadata": {},
   "outputs": [],
   "source": [
    "m1 = matrix.window((0, 0), (2, 2))\n",
    "print_matrix(m1)"
   ]
  },
  {
   "cell_type": "code",
   "execution_count": null,
   "id": "38914071-bcb9-4700-b6d1-77f5fca625d2",
   "metadata": {},
   "outputs": [],
   "source": [
    "m2 = matrix.shrink_basis(basis, basis[:2])\n",
    "print_matrix(m2)"
   ]
  },
  {
   "cell_type": "code",
   "execution_count": null,
   "id": "2eaf1e86-9d8f-45d9-847f-c97effd6772d",
   "metadata": {},
   "outputs": [],
   "source": [
    "print(\n",
    "    (m1 - m2).chop(1e-14).num_nonzero == 0\n",
    ")"
   ]
  },
  {
   "cell_type": "code",
   "execution_count": null,
   "id": "16274c7f-a454-4f67-9227-28a2de8d57ee",
   "metadata": {},
   "outputs": [],
   "source": [
    "print(m1.size == m2.size)"
   ]
  }
 ],
 "metadata": {
  "kernelspec": {
   "display_name": "Python 3 (ipykernel)",
   "language": "python",
   "name": "python3"
  },
  "language_info": {
   "codemirror_mode": {
    "name": "ipython",
    "version": 3
   },
   "file_extension": ".py",
   "mimetype": "text/x-python",
   "name": "python",
   "nbconvert_exporter": "python",
   "pygments_lexer": "ipython3",
   "version": "3.12.4"
  }
 },
 "nbformat": 4,
 "nbformat_minor": 5
}
