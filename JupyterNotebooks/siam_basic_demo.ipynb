{
 "cells": [
  {
   "cell_type": "code",
   "execution_count": 1,
   "id": "57f66339-a6ea-46da-824a-ca80fc02ae2f",
   "metadata": {},
   "outputs": [],
   "source": [
    "import numpy as np\n",
    "np.set_printoptions(precision=3)\n",
    "\n",
    "import scipy as sp\n",
    "import matplotlib.pyplot as plt\n",
    "import matplotlib\n",
    "matplotlib.rcParams.update({'font.size': 13})\n",
    "\n",
    "import sys\n",
    "sys.path.append(\"..\")\n",
    "import solax as sx"
   ]
  },
  {
   "cell_type": "code",
   "execution_count": 2,
   "id": "3f519efe-d8f4-4d6b-93c4-6ef2159064de",
   "metadata": {},
   "outputs": [],
   "source": [
    "def build_bath(N_bath):\n",
    "    ii = np.arange(N_bath) + 1\n",
    "    xx = ii * np.pi / (N_bath + 1)\n",
    "    e_bath = -2 * np.cos(xx)\n",
    "    \n",
    "    V0 = np.sqrt(20 / (N_bath + 1))\n",
    "    V_bath = V0 * np.sqrt(1 - (e_bath / 2)**2)\n",
    "    \n",
    "    return e_bath, V_bath"
   ]
  },
  {
   "cell_type": "code",
   "execution_count": 3,
   "id": "0a7bf26a-485c-4758-bbcf-d20357fbbb76",
   "metadata": {},
   "outputs": [
    {
     "data": {
      "image/png": "[encoded data removed]",
      "text/plain": [
       "<Figure size 500x400 with 2 Axes>"
      ]
     },
     "metadata": {},
     "output_type": "display_data"
    }
   ],
   "source": [
    "e_bath, V_bath = build_bath(N_bath=21)\n",
    "\n",
    "fig, axes = plt.subplots(2, 1, sharex=True, figsize=(5, 4))\n",
    "\n",
    "ii = np.arange(1, len(e_bath) + 1)\n",
    "\n",
    "ax = axes[0]\n",
    "ax.scatter(ii, e_bath)\n",
    "ax.set_ylabel(r\"$\\varepsilon_b$\");\n",
    "ax.set_ylim(-2.2, 2.2)\n",
    "ax.set_yticks(np.arange(-2.0, 2.1))\n",
    "\n",
    "ax = axes[1]\n",
    "ax.scatter(ii, V_bath)\n",
    "ax.set_ylabel(r\"$V_b$\");\n",
    "ax.set_yticks(np.arange(0, 1.1, 0.25))\n",
    "ax.set_ylim(-0.1, 1.1)\n",
    "\n",
    "ax.set_xlabel(\"Bath site\");\n",
    "ax.set_xticks(ii[::2]);"
   ]
  },
  {
   "cell_type": "code",
   "execution_count": 4,
   "id": "cdadef8e-6912-4b1f-93e1-e868de9ed655",
   "metadata": {},
   "outputs": [],
   "source": [
    "def build_start_dets(N_bath):\n",
    "    det1 = \"01\"  + \"1\" * (N_bath - 1) + \"10\" + \"0\" * (N_bath - 1)\n",
    "    det2 = \"10\"  + \"1\" * (N_bath - 1) + \"01\" + \"0\" * (N_bath - 1)\n",
    "    return det1, det2"
   ]
  },
  {
   "cell_type": "code",
   "execution_count": 5,
   "id": "e47f52f7-4187-419c-8310-33385df55feb",
   "metadata": {},
   "outputs": [],
   "source": [
    "U = 10\n",
    "N_bath = 3\n",
    "e_bath, V_bath = build_bath(N_bath)\n",
    "start_dets = build_start_dets(N_bath)"
   ]
  },
  {
   "cell_type": "code",
   "execution_count": 6,
   "id": "2e70d40a-2607-411a-8bb5-de2ea92353a7",
   "metadata": {},
   "outputs": [
    {
     "name": "stdout",
     "output_type": "stream",
     "text": [
      "01111000\n",
      "10110100\n"
     ]
    }
   ],
   "source": [
    "basis_start = sx.Basis(build_start_dets(N_bath))\n",
    "print(basis_start)"
   ]
  },
  {
   "cell_type": "code",
   "execution_count": 7,
   "id": "d2d225c1-e71f-4892-9426-4eef291fce17",
   "metadata": {},
   "outputs": [
    {
     "name": "stdout",
     "output_type": "stream",
     "text": [
      "Operator({\n",
      "\t(1, 0): OperatorTerm(\n",
      "\t\tdaggers=(1, 0),\n",
      "\t\tposits=array([[0, 0],\n",
      "\t\t       [1, 1]]),\n",
      "\t\tcoeffs=array([-5., -5.])\n",
      "\t),\n",
      "\tscalar: 2.5,\n",
      "\t(1, 0, 1, 0): OperatorTerm(\n",
      "\t\tdaggers=(1, 0, 1, 0),\n",
      "\t\tposits=array([[0, 0, 1, 1]]),\n",
      "\t\tcoeffs=array([10.])\n",
      "\t)\n",
      "})\n"
     ]
    }
   ],
   "source": [
    "H_imp2 = sx.Operator(\n",
    "    (1, 0, 1, 0),\n",
    "    np.array([\n",
    "        [0, 0, 1, 1]\n",
    "    ]),\n",
    "    np.array([U])\n",
    ")\n",
    "\n",
    "H_imp1 = sx.Operator(\n",
    "    (1, 0),\n",
    "    np.array([\n",
    "        [0, 0],\n",
    "        [1, 1]\n",
    "    ]),\n",
    "    np.array([-U / 2, -U / 2])\n",
    ")\n",
    "\n",
    "H_imp = H_imp2 + H_imp1 + U / 4\n",
    "print(H_imp)"
   ]
  },
  {
   "cell_type": "code",
   "execution_count": 8,
   "id": "e455b256-2f9c-491f-8a13-a60e658a8801",
   "metadata": {},
   "outputs": [
    {
     "name": "stdout",
     "output_type": "stream",
     "text": [
      "Operator({\n",
      "\t(1, 0): OperatorTerm(\n",
      "\t\tdaggers=(1, 0),\n",
      "\t\tposits=array([[2, 2],\n",
      "\t\t       [3, 3],\n",
      "\t\t       [4, 4],\n",
      "\t\t       [5, 5],\n",
      "\t\t       [6, 6],\n",
      "\t\t       [7, 7]]),\n",
      "\t\tcoeffs=array([-1.414e+00, -1.414e+00, -1.225e-16, -1.225e-16,  1.414e+00,\n",
      "\t\t        1.414e+00])\n",
      "\t)\n",
      "})\n"
     ]
    }
   ],
   "source": [
    "H_bath = sx.Operator(\n",
    "    (1, 0),\n",
    "    np.arange(2, 2 * N_bath + 2).repeat(2).reshape(-1, 2),\n",
    "    e_bath.repeat(2)\n",
    ")\n",
    "print(H_bath)"
   ]
  },
  {
   "cell_type": "code",
   "execution_count": 9,
   "id": "d013e92a-1503-4333-951c-a57bbc66f9e7",
   "metadata": {},
   "outputs": [
    {
     "name": "stdout",
     "output_type": "stream",
     "text": [
      "Operator({\n",
      "\t(1, 0): OperatorTerm(\n",
      "\t\tdaggers=(1, 0),\n",
      "\t\tposits=array([[0, 2],\n",
      "\t\t       [1, 3],\n",
      "\t\t       [0, 4],\n",
      "\t\t       [1, 5],\n",
      "\t\t       [0, 6],\n",
      "\t\t       [1, 7]]),\n",
      "\t\tcoeffs=array([1.581, 1.581, 2.236, 2.236, 1.581, 1.581])\n",
      "\t)\n",
      "})\n"
     ]
    }
   ],
   "source": [
    "H_hyb_posits = np.vstack([\n",
    "    np.array([0, 1] * N_bath),\n",
    "    np.arange(2, 2 * N_bath + 2)\n",
    "]).T\n",
    "\n",
    "H_hyb_nohc = sx.Operator(\n",
    "    (1, 0),\n",
    "    H_hyb_posits,\n",
    "    V_bath.repeat(2)\n",
    ")\n",
    "print(H_hyb_nohc)"
   ]
  },
  {
   "cell_type": "code",
   "execution_count": 10,
   "id": "ccfa9a52-d466-40f1-b180-479f31b91bc0",
   "metadata": {},
   "outputs": [],
   "source": [
    "H = H_imp + H_bath + H_hyb_nohc + H_hyb_nohc.hconj"
   ]
  },
  {
   "cell_type": "code",
   "execution_count": 11,
   "id": "74a7cbeb-b018-4811-85de-edc345e6c027",
   "metadata": {},
   "outputs": [
    {
     "name": "stderr",
     "output_type": "stream",
     "text": [
      "2024-08-20 15:53:19.810451: W external/xla/xla/service/gpu/nvptx_compiler.cc:765] The NVIDIA driver's CUDA version is 12.2 which is older than the ptxas CUDA version (12.5.82). Because the driver is older than the ptxas version, XLA is disabling parallel compilation, which may slow down compilation. You should update your NVIDIA driver or use the NVIDIA-provided CUDA forward compatibility packages.\n"
     ]
    }
   ],
   "source": [
    "matrix_start = H.build_matrix(basis_start)"
   ]
  },
  {
   "cell_type": "code",
   "execution_count": 12,
   "id": "1f2c5381-3438-413f-af31-6b18392e0609",
   "metadata": {},
   "outputs": [
    {
     "name": "stdout",
     "output_type": "stream",
     "text": [
      "[[-5.328  0.   ]\n",
      " [ 0.    -5.328]]\n"
     ]
    }
   ],
   "source": [
    "matrix_dense_start = matrix_start.to_scipy().todense()\n",
    "print(matrix_dense_start)"
   ]
  },
  {
   "cell_type": "code",
   "execution_count": 13,
   "id": "06240eb3-5a91-4a9d-bd12-3f0870b90d91",
   "metadata": {},
   "outputs": [
    {
     "name": "stdout",
     "output_type": "stream",
     "text": [
      "-5.32842712474619\n"
     ]
    }
   ],
   "source": [
    "energy_start = matrix_dense_start[0, 0]\n",
    "print(energy_start)"
   ]
  },
  {
   "cell_type": "code",
   "execution_count": 14,
   "id": "d0bdcc1e-2cd9-4c6e-bc0c-a71bad50c5c5",
   "metadata": {},
   "outputs": [
    {
     "name": "stdout",
     "output_type": "stream",
     "text": [
      "8\n"
     ]
    }
   ],
   "source": [
    "basis = H(basis_start)\n",
    "print(len(basis))"
   ]
  },
  {
   "cell_type": "code",
   "execution_count": 15,
   "id": "b9807b46-26b7-43ed-87c1-1f8746c609e9",
   "metadata": {},
   "outputs": [
    {
     "name": "stdout",
     "output_type": "stream",
     "text": [
      "[[-5.328 -1.581 -2.236 -2.236 -1.581  0.     0.     0.   ]\n",
      " [-1.581  1.086  0.     0.     0.     0.     0.     0.   ]\n",
      " [-2.236  0.    -0.328  0.     0.     2.236  0.     0.   ]\n",
      " [-2.236  0.     0.    -0.328  0.     2.236  0.     0.   ]\n",
      " [-1.581  0.     0.     0.     1.086  0.     0.     0.   ]\n",
      " [ 0.     0.     2.236  2.236  0.    -5.328 -1.581 -1.581]\n",
      " [ 0.     0.     0.     0.     0.    -1.581  1.086  0.   ]\n",
      " [ 0.     0.     0.     0.     0.    -1.581  0.     1.086]]\n"
     ]
    }
   ],
   "source": [
    "matrix = H.build_matrix(basis)\n",
    "\n",
    "matrix_dense = matrix.to_scipy().todense()\n",
    "print(matrix_dense)"
   ]
  },
  {
   "cell_type": "code",
   "execution_count": 16,
   "id": "12359f3d-50b8-4102-b640-c6df827a23f1",
   "metadata": {},
   "outputs": [
    {
     "name": "stdout",
     "output_type": "stream",
     "text": [
      "Basis size = 8\tEnergy = -8.351171437060554\n"
     ]
    }
   ],
   "source": [
    "energy = np.linalg.eigvals(matrix_dense).min()\n",
    "\n",
    "basis_size = len(basis)\n",
    "print(f\"Basis size = {basis_size}\\tEnergy = {energy}\")"
   ]
  },
  {
   "cell_type": "code",
   "execution_count": 17,
   "id": "d96bfd1d-34f7-442f-b120-d8ae66cc4885",
   "metadata": {},
   "outputs": [],
   "source": [
    "U = 10\n",
    "N_bath = 21\n",
    "e_bath, V_bath = build_bath(N_bath)\n",
    "start_dets = build_start_dets(N_bath)\n",
    "\n",
    "basis_start = sx.Basis(build_start_dets(N_bath))\n",
    "\n",
    "H_imp2 = sx.Operator(\n",
    "    (1, 0, 1, 0),\n",
    "    np.array([\n",
    "        [0, 0, 1, 1]\n",
    "    ]),\n",
    "    np.array([U])\n",
    ")\n",
    "\n",
    "H_imp1 = sx.Operator(\n",
    "    (1, 0),\n",
    "    np.array([\n",
    "        [0, 0],\n",
    "        [1, 1]\n",
    "    ]),\n",
    "    np.array([-U / 2, -U / 2])\n",
    ")\n",
    "\n",
    "H_imp = H_imp2 + H_imp1 + U / 4\n",
    "\n",
    "H_bath = sx.Operator(\n",
    "    (1, 0),\n",
    "    np.arange(2, 2 * N_bath + 2).repeat(2).reshape(-1, 2),\n",
    "    e_bath.repeat(2)\n",
    ")\n",
    "\n",
    "H_hyb_posits = np.vstack([\n",
    "    np.array([0, 1] * N_bath),\n",
    "    np.arange(2, 2 * N_bath + 2)\n",
    "]).T\n",
    "\n",
    "H_hyb_nohc = sx.Operator(\n",
    "    (1, 0),\n",
    "    H_hyb_posits,\n",
    "    V_bath.repeat(2)\n",
    ")\n",
    "\n",
    "H = H_imp + H_bath + H_hyb_nohc + H_hyb_nohc.hconj"
   ]
  },
  {
   "cell_type": "code",
   "execution_count": 18,
   "id": "5f96fc7e-d346-4464-9a20-6a1aaec6ebac",
   "metadata": {},
   "outputs": [
    {
     "name": "stdout",
     "output_type": "stream",
     "text": [
      "Iteration: 1       Basis size = 2           Energy = -28.463653910211487\n",
      "Iteration: 2       Basis size = 44          Energy = -30.19530217404953\n",
      "Iteration: 3       Basis size = 684         Energy = -31.242891311317663\n",
      "Iteration: 4       Basis size = 7084        Energy = -31.70729257122757\n"
     ]
    }
   ],
   "source": [
    "num_iterations = 4\n",
    "\n",
    "basis = basis_start\n",
    "\n",
    "for i in range(num_iterations):\n",
    "    matrix = H.build_matrix(basis)\n",
    "    energy = sp.sparse.linalg.eigsh(\n",
    "        matrix.to_scipy(), k=1, which=\"SA\"\n",
    "    )[0][0]\n",
    "    \n",
    "    basis_size = len(basis)\n",
    "    print(\n",
    "        f\"Iteration: {i+1:<8d}\"\n",
    "        f\"Basis size = {basis_size:<12d}\"\n",
    "        f\"Energy = {energy}\"\n",
    "    )\n",
    "    \n",
    "    if i < num_iterations - 1:\n",
    "        basis = H(basis)"
   ]
  },
  {
   "cell_type": "code",
   "execution_count": 19,
   "id": "c1d182b5-ea37-4e96-9603-aeee97c51b22",
   "metadata": {},
   "outputs": [
    {
     "name": "stdout",
     "output_type": "stream",
     "text": [
      "(7084, 7084)\n"
     ]
    }
   ],
   "source": [
    "basis_small = basis\n",
    "M_small = matrix\n",
    "print(M_small.size)"
   ]
  },
  {
   "cell_type": "code",
   "execution_count": 20,
   "id": "d02e7c66-070e-4642-8d17-69d33d1a222a",
   "metadata": {},
   "outputs": [
    {
     "name": "stdout",
     "output_type": "stream",
     "text": [
      "(58984, 58984)\n"
     ]
    }
   ],
   "source": [
    "basis_big = H(basis_small)\n",
    "M_big_direct = H.build_matrix(basis_big)\n",
    "print(M_big_direct.size)"
   ]
  },
  {
   "cell_type": "code",
   "execution_count": 21,
   "id": "660e816e-3583-4cd6-8226-039111d19e60",
   "metadata": {},
   "outputs": [
    {
     "name": "stdout",
     "output_type": "stream",
     "text": [
      "True\n"
     ]
    }
   ],
   "source": [
    "print(len(basis_small % basis_big) == 0)"
   ]
  },
  {
   "cell_type": "code",
   "execution_count": 22,
   "id": "dfc30404-3d28-4c53-86e5-bc4234084ecb",
   "metadata": {},
   "outputs": [],
   "source": [
    "basis_cols = basis_big % basis_small\n",
    "basis_rows = basis_small + basis_cols"
   ]
  },
  {
   "cell_type": "code",
   "execution_count": 23,
   "id": "0ab03e4c-747d-4e2c-88a8-90335d560355",
   "metadata": {},
   "outputs": [
    {
     "name": "stdout",
     "output_type": "stream",
     "text": [
      "(58984, 51900)\n"
     ]
    }
   ],
   "source": [
    "C = H.build_matrix(basis_rows, basis_cols)\n",
    "print(C.size)"
   ]
  },
  {
   "cell_type": "code",
   "execution_count": 24,
   "id": "94bcf47a-3ded-4609-a1e8-2eac069f87ee",
   "metadata": {},
   "outputs": [],
   "source": [
    "C_displ = C.displace(0, len(basis_small))"
   ]
  },
  {
   "cell_type": "code",
   "execution_count": 25,
   "id": "badff1ae-10b0-4dc2-ba4b-90dab427ce39",
   "metadata": {},
   "outputs": [],
   "source": [
    "M_with2B = M_small + C_displ + C_displ.hconj"
   ]
  },
  {
   "cell_type": "code",
   "execution_count": 26,
   "id": "3a30c672-b7f8-4238-89a5-925dc6874ecf",
   "metadata": {},
   "outputs": [],
   "source": [
    "left_top = (len(basis_small), len(basis_small))\n",
    "right_bottom = (None, None)\n",
    "\n",
    "B_displ = C_displ.window(left_top, right_bottom)"
   ]
  },
  {
   "cell_type": "code",
   "execution_count": 27,
   "id": "1213b06a-5eed-4f08-9607-43f42328fb37",
   "metadata": {},
   "outputs": [],
   "source": [
    "M_big = M_with2B - B_displ"
   ]
  },
  {
   "cell_type": "code",
   "execution_count": 28,
   "id": "504b709c-7927-4616-8f79-b11be205bc76",
   "metadata": {},
   "outputs": [
    {
     "name": "stdout",
     "output_type": "stream",
     "text": [
      "-31.81901863948388\n"
     ]
    }
   ],
   "source": [
    "energy_big_direct = sp.sparse.linalg.eigsh(M_big_direct.to_scipy(), k=1, which=\"SA\")[0][0]\n",
    "print(energy_big_direct)"
   ]
  },
  {
   "cell_type": "code",
   "execution_count": 29,
   "id": "9b948827-6b48-4b41-b875-02b203e6689a",
   "metadata": {},
   "outputs": [
    {
     "name": "stdout",
     "output_type": "stream",
     "text": [
      "-31.819018639483822\n"
     ]
    }
   ],
   "source": [
    "energy_big = sp.sparse.linalg.eigsh(M_big.to_scipy(), k=1, which=\"SA\")[0][0]\n",
    "print(energy_big)"
   ]
  },
  {
   "cell_type": "code",
   "execution_count": null,
   "id": "4e240423-2001-401a-8d86-16c31e8c86ea",
   "metadata": {},
   "outputs": [],
   "source": []
  }
 ],
 "metadata": {
  "kernelspec": {
   "display_name": "Python 3 (ipykernel)",
   "language": "python",
   "name": "python3"
  },
  "language_info": {
   "codemirror_mode": {
    "name": "ipython",
    "version": 3
   },
   "file_extension": ".py",
   "mimetype": "text/x-python",
   "name": "python",
   "nbconvert_exporter": "python",
   "pygments_lexer": "ipython3",
   "version": "3.10.9"
  }
 },
 "nbformat": 4,
 "nbformat_minor": 5
}
